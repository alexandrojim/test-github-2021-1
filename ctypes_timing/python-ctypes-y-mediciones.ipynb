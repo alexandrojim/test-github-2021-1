{
  "cells": [
    {
      "cell_type": "markdown",
      "id": "265c5b19",
      "metadata": {
        "id": "265c5b19"
      },
      "source": [
        "# Extensiones para Python con ctypes\n",
        "\n",
        "Se mostrarán ejemplos de como llamar funciones implementadas en C, y compiladas con `gcc` desde Python con el módulo `ctypes`."
      ]
    },
    {
      "cell_type": "markdown",
      "id": "aQAPLsAvHVOJ",
      "metadata": {
        "id": "aQAPLsAvHVOJ"
      },
      "source": [
        "Lo primero es invocar el módulo `ctypes`"
      ]
    },
    {
      "cell_type": "code",
      "execution_count": 1,
      "id": "cbee4199",
      "metadata": {
        "id": "cbee4199"
      },
      "outputs": [],
      "source": [
        "import ctypes"
      ]
    },
    {
      "cell_type": "markdown",
      "id": "993ee305",
      "metadata": {
        "id": "993ee305"
      },
      "source": [
        "## Primer ejemplo"
      ]
    },
    {
      "cell_type": "markdown",
      "id": "R_tW_XZZH6do",
      "metadata": {
        "id": "R_tW_XZZH6do"
      },
      "source": [
        "El primer ejemplo consistirá en una función que suma dos números enteros."
      ]
    },
    {
      "cell_type": "markdown",
      "id": "Pd9K7m14KC5h",
      "metadata": {
        "id": "Pd9K7m14KC5h"
      },
      "source": [
        "### Codificación"
      ]
    },
    {
      "cell_type": "markdown",
      "id": "H9QSgMLoKR6D",
      "metadata": {
        "id": "H9QSgMLoKR6D"
      },
      "source": [
        "Con esta celda mágica se crea el archivo `suma_int.c`"
      ]
    },
    {
      "cell_type": "code",
      "execution_count": 2,
      "id": "1c95eb68",
      "metadata": {
        "colab": {
          "base_uri": "https://localhost:8080/"
        },
        "id": "1c95eb68",
        "outputId": "5fb3174c-dc38-491d-cce2-d0c2ffed935e"
      },
      "outputs": [
        {
          "name": "stdout",
          "output_type": "stream",
          "text": [
            "Writing suma_int.c\n"
          ]
        }
      ],
      "source": [
        "%%file suma_int.c\n",
        "int suma_int(int a, int b) {\n",
        "    return a+b;\n",
        "}"
      ]
    },
    {
      "cell_type": "markdown",
      "id": "X7Ldif95ITDE",
      "metadata": {
        "id": "X7Ldif95ITDE"
      },
      "source": [
        "Ahora toca crear el *object file*"
      ]
    },
    {
      "cell_type": "code",
      "execution_count": 3,
      "id": "ca0ed8bd",
      "metadata": {
        "id": "ca0ed8bd"
      },
      "outputs": [],
      "source": [
        "! gcc -c suma_int.c"
      ]
    },
    {
      "cell_type": "markdown",
      "id": "hkxrVEgjIbP4",
      "metadata": {
        "id": "hkxrVEgjIbP4"
      },
      "source": [
        "Luego, toca crear la *shared library*"
      ]
    },
    {
      "cell_type": "code",
      "execution_count": 4,
      "id": "yIX8nod6Iju9",
      "metadata": {
        "id": "yIX8nod6Iju9"
      },
      "outputs": [],
      "source": [
        "! gcc -shared suma_int.o -o suma_int.so"
      ]
    },
    {
      "cell_type": "markdown",
      "id": "o0rJ32inIvi_",
      "metadata": {
        "id": "o0rJ32inIvi_"
      },
      "source": [
        "Ahora se procederá a hacer una función que configura nuestra *shared library* con el módulo de `ctypes` para poder usarlo desde `python`"
      ]
    },
    {
      "cell_type": "code",
      "execution_count": 5,
      "id": "7af1a8d3",
      "metadata": {
        "id": "7af1a8d3"
      },
      "outputs": [],
      "source": [
        "def ctypes_suma_int():\n",
        "    # ruta de la shared library\n",
        "    lib = ctypes.CDLL('./suma_int.so')\n",
        "    \n",
        "    # tipo de los argumentos\n",
        "    lib.suma_int.argtypes = [ctypes.c_int, ctypes.c_int]\n",
        "    \n",
        "    # tipo de la salida\n",
        "    lib.suma_int.restype  = ctypes.c_int\n",
        "    \n",
        "    # se devuelve la función configurada\n",
        "    return lib.suma_int"
      ]
    },
    {
      "cell_type": "code",
      "execution_count": 6,
      "id": "7408aa74",
      "metadata": {
        "id": "7408aa74"
      },
      "outputs": [],
      "source": [
        "# instancia de la funcion\n",
        "c_suma_int = ctypes_suma_int()"
      ]
    },
    {
      "cell_type": "markdown",
      "id": "affcc2ab",
      "metadata": {
        "id": "affcc2ab"
      },
      "source": [
        "### Prueba de funcionalidad `suma_int`"
      ]
    },
    {
      "cell_type": "markdown",
      "id": "-XzJENnRKeVk",
      "metadata": {
        "id": "-XzJENnRKeVk"
      },
      "source": [
        "Por lo pronto se realizarán pruebas individuales para ver si nuestra función tiene el comportamiento esperado"
      ]
    },
    {
      "cell_type": "code",
      "execution_count": 7,
      "id": "stVqcjPzJo-E",
      "metadata": {
        "colab": {
          "base_uri": "https://localhost:8080/"
        },
        "id": "stVqcjPzJo-E",
        "outputId": "766be442-34f8-44e7-c32f-4d49ee4aa686"
      },
      "outputs": [
        {
          "data": {
            "text/plain": [
              "15"
            ]
          },
          "execution_count": 7,
          "metadata": {},
          "output_type": "execute_result"
        }
      ],
      "source": [
        "c_suma_int(10, 5)"
      ]
    },
    {
      "cell_type": "code",
      "execution_count": 8,
      "id": "43PAWH6wJq_D",
      "metadata": {
        "colab": {
          "base_uri": "https://localhost:8080/"
        },
        "id": "43PAWH6wJq_D",
        "outputId": "0f8ae6a8-fdec-4fda-bb6b-038995ee6c5c"
      },
      "outputs": [
        {
          "data": {
            "text/plain": [
              "35"
            ]
          },
          "execution_count": 8,
          "metadata": {},
          "output_type": "execute_result"
        }
      ],
      "source": [
        "c_suma_int(20, 15)"
      ]
    },
    {
      "cell_type": "code",
      "execution_count": 9,
      "id": "fqetT-9UJuUz",
      "metadata": {
        "colab": {
          "base_uri": "https://localhost:8080/"
        },
        "id": "fqetT-9UJuUz",
        "outputId": "4290a0b7-b7a0-46b1-83cf-3e56d3037eb8"
      },
      "outputs": [
        {
          "data": {
            "text/plain": [
              "75"
            ]
          },
          "execution_count": 9,
          "metadata": {},
          "output_type": "execute_result"
        }
      ],
      "source": [
        "c_suma_int(50, 25)"
      ]
    },
    {
      "cell_type": "markdown",
      "id": "df6642bd",
      "metadata": {
        "id": "df6642bd"
      },
      "source": [
        "## Segundo ejemplo"
      ]
    },
    {
      "cell_type": "markdown",
      "id": "ec6vSIWwNsWz",
      "metadata": {
        "id": "ec6vSIWwNsWz"
      },
      "source": [
        "El segundo ejemplo tratará de elevar un número a un determinado exponente. "
      ]
    },
    {
      "cell_type": "markdown",
      "id": "_ksclJN7Oap7",
      "metadata": {
        "id": "_ksclJN7Oap7"
      },
      "source": [
        "### Codificación"
      ]
    },
    {
      "cell_type": "markdown",
      "id": "VqSuThMqOgQ6",
      "metadata": {
        "id": "VqSuThMqOgQ6"
      },
      "source": [
        "Se considera a ambos argumentos como double porque así se puede calcular, por ejemplo, potencias de Pi o del número de Euler, o también calcular fracciones. En consecuencia, el resultado también es double. "
      ]
    },
    {
      "cell_type": "code",
      "execution_count": 10,
      "id": "d27215db",
      "metadata": {
        "colab": {
          "base_uri": "https://localhost:8080/"
        },
        "id": "d27215db",
        "outputId": "f152bf85-b736-4c45-c014-5f5d0c39d20f"
      },
      "outputs": [
        {
          "name": "stdout",
          "output_type": "stream",
          "text": [
            "Writing num_exp.c\n"
          ]
        }
      ],
      "source": [
        "%%file num_exp.c\n",
        "#include <math.h>\n",
        "double num_exp(double a, double b){\n",
        "    return pow(a,b);\n",
        "}"
      ]
    },
    {
      "cell_type": "markdown",
      "id": "H_kQWQlIOs2I",
      "metadata": {
        "id": "H_kQWQlIOs2I"
      },
      "source": [
        "Para crear el object file"
      ]
    },
    {
      "cell_type": "code",
      "execution_count": 11,
      "id": "13839527",
      "metadata": {
        "id": "13839527"
      },
      "outputs": [],
      "source": [
        "! gcc -c num_exp.c -lm"
      ]
    },
    {
      "cell_type": "markdown",
      "id": "rl6GExUgO1x9",
      "metadata": {
        "id": "rl6GExUgO1x9"
      },
      "source": [
        "Para crear la shared library"
      ]
    },
    {
      "cell_type": "code",
      "execution_count": 12,
      "id": "F7dLG2UxO05S",
      "metadata": {
        "id": "F7dLG2UxO05S"
      },
      "outputs": [],
      "source": [
        "! gcc -shared num_exp.o -o num_exp.so"
      ]
    },
    {
      "cell_type": "markdown",
      "id": "N9ly4M__PE0t",
      "metadata": {
        "id": "N9ly4M__PE0t"
      },
      "source": [
        "Enlace con Python"
      ]
    },
    {
      "cell_type": "code",
      "execution_count": 13,
      "id": "9068d8f1",
      "metadata": {
        "id": "9068d8f1"
      },
      "outputs": [],
      "source": [
        "def ctypes_num_exp():\n",
        "    # indicar la ruta de la shared library\n",
        "    libfile = './num_exp.so'\n",
        "\n",
        "    # cargar la shared library\n",
        "    lib = ctypes.CDLL(libfile)\n",
        "\n",
        "    # tipo de dato de los argumentos\n",
        "    lib.num_exp.argtypes = [ctypes.c_double, ctypes.c_double]\n",
        "\n",
        "    # tipo de dato del resultado\n",
        "    lib.num_exp.restype = ctypes.c_double\n",
        "    \n",
        "    # funcion configurada\n",
        "    return lib.num_exp"
      ]
    },
    {
      "cell_type": "code",
      "execution_count": 14,
      "id": "12f4ac0b",
      "metadata": {
        "id": "12f4ac0b"
      },
      "outputs": [],
      "source": [
        "c_num_exp = ctypes_num_exp()"
      ]
    },
    {
      "cell_type": "markdown",
      "id": "544e749e",
      "metadata": {
        "id": "544e749e"
      },
      "source": [
        "### Prueba de funcionalidad `num_exp`"
      ]
    },
    {
      "cell_type": "markdown",
      "id": "l2sEeevYP25Z",
      "metadata": {
        "id": "l2sEeevYP25Z"
      },
      "source": [
        "También se realizarán pruebas individuales para ver si la función tiene el comportamiento esperado"
      ]
    },
    {
      "cell_type": "code",
      "execution_count": 15,
      "id": "0726902c",
      "metadata": {
        "colab": {
          "base_uri": "https://localhost:8080/"
        },
        "id": "0726902c",
        "outputId": "e7d60e26-58f6-48dc-f033-1027d15fe500"
      },
      "outputs": [
        {
          "data": {
            "text/plain": [
              "8.0"
            ]
          },
          "execution_count": 15,
          "metadata": {},
          "output_type": "execute_result"
        }
      ],
      "source": [
        "c_num_exp(2, 3)"
      ]
    },
    {
      "cell_type": "code",
      "execution_count": 16,
      "id": "N0dOHRQnPjYS",
      "metadata": {
        "colab": {
          "base_uri": "https://localhost:8080/"
        },
        "id": "N0dOHRQnPjYS",
        "outputId": "23ed1bbf-948b-41df-f685-3b8d94c95ed1"
      },
      "outputs": [
        {
          "data": {
            "text/plain": [
              "1.4142135623730951"
            ]
          },
          "execution_count": 16,
          "metadata": {},
          "output_type": "execute_result"
        }
      ],
      "source": [
        "c_num_exp(2, 0.5)"
      ]
    },
    {
      "cell_type": "code",
      "execution_count": 17,
      "id": "xqlXN-AFPmJa",
      "metadata": {
        "colab": {
          "base_uri": "https://localhost:8080/"
        },
        "id": "xqlXN-AFPmJa",
        "outputId": "97293443-b698-4971-96fa-b5b3040822c0"
      },
      "outputs": [
        {
          "data": {
            "text/plain": [
              "1.7320508075688772"
            ]
          },
          "execution_count": 17,
          "metadata": {},
          "output_type": "execute_result"
        }
      ],
      "source": [
        "c_num_exp(3, 0.5)"
      ]
    },
    {
      "cell_type": "markdown",
      "id": "S5pqXPyHQ_7N",
      "metadata": {
        "id": "S5pqXPyHQ_7N"
      },
      "source": [
        "### Prueba de precisión de `num_exp`"
      ]
    },
    {
      "cell_type": "markdown",
      "id": "1_4f05-7P80B",
      "metadata": {
        "id": "1_4f05-7P80B"
      },
      "source": [
        "Si fuera necesario ver que tan preciso es el cálculo presentado se puede **medir el error relativo** del resultado obtenido por nuestra función respecto de una referencia. Para los ejemplos mostrados se medirá respecto del cálculo realizado por Python."
      ]
    },
    {
      "cell_type": "code",
      "execution_count": 18,
      "id": "4O2mu4MIQNBB",
      "metadata": {
        "id": "4O2mu4MIQNBB"
      },
      "outputs": [],
      "source": [
        "res = c_num_exp(2, 0.5)"
      ]
    },
    {
      "cell_type": "code",
      "execution_count": 19,
      "id": "Gln52p4qQRV_",
      "metadata": {
        "id": "Gln52p4qQRV_"
      },
      "outputs": [],
      "source": [
        "ref = 2 ** 0.5"
      ]
    },
    {
      "cell_type": "code",
      "execution_count": 20,
      "id": "YBCXseazQU8I",
      "metadata": {
        "id": "YBCXseazQU8I"
      },
      "outputs": [],
      "source": [
        "err_rel = abs(ref - res) / abs(ref)"
      ]
    },
    {
      "cell_type": "code",
      "execution_count": 21,
      "id": "GFZA29YTQgO5",
      "metadata": {
        "colab": {
          "base_uri": "https://localhost:8080/"
        },
        "id": "GFZA29YTQgO5",
        "outputId": "72a06623-aec6-43dc-86d4-9069df4cfaa8"
      },
      "outputs": [
        {
          "data": {
            "text/plain": [
              "0.0"
            ]
          },
          "execution_count": 21,
          "metadata": {},
          "output_type": "execute_result"
        }
      ],
      "source": [
        "err_rel"
      ]
    },
    {
      "cell_type": "markdown",
      "id": "CiBi0ropQjYG",
      "metadata": {
        "id": "CiBi0ropQjYG"
      },
      "source": [
        "Se obtuvo un error relativo de `0.0`. Esto significa que el valor calculado por nuestra función idéntico al de Python."
      ]
    },
    {
      "cell_type": "markdown",
      "id": "4656a425",
      "metadata": {
        "id": "4656a425"
      },
      "source": [
        "## Tercer ejemplo"
      ]
    },
    {
      "cell_type": "markdown",
      "id": "tigja3NSShCJ",
      "metadata": {
        "id": "tigja3NSShCJ"
      },
      "source": [
        "El tercer ejemplo consistirá en la implementación de algoritmo de ordenamiento \"Burbuja\". En esta presentación se asumirá que se opera sobre elementos que son todos enteros, y los elemtos serán ordenados de menor a mayor."
      ]
    },
    {
      "cell_type": "markdown",
      "id": "z6aQJ9lFTlGE",
      "metadata": {
        "id": "z6aQJ9lFTlGE"
      },
      "source": [
        "### Codificación"
      ]
    },
    {
      "cell_type": "code",
      "execution_count": 22,
      "id": "8942e5e0",
      "metadata": {
        "colab": {
          "base_uri": "https://localhost:8080/"
        },
        "id": "8942e5e0",
        "outputId": "2864543b-86a7-42a4-daf5-b4c9f736a055"
      },
      "outputs": [
        {
          "name": "stdout",
          "output_type": "stream",
          "text": [
            "Writing ord_burbuja_int.c\n"
          ]
        }
      ],
      "source": [
        "%%file ord_burbuja_int.c\n",
        "void ord_burbuja_int(int* arr, int size){\n",
        "    int i, j, temp;\n",
        "    for (i = 0; i < size-1; i++) {\n",
        "        for (j = 0; j < size-1-i; j++) {\n",
        "            if (arr[j] > arr[j+1]) {\n",
        "                temp = arr[j];\n",
        "                arr[j] = arr[j+1];\n",
        "                arr[j+1] = temp;\n",
        "            }\n",
        "        }\n",
        "    }\n",
        "}"
      ]
    },
    {
      "cell_type": "markdown",
      "id": "fCAW-tTaS_xq",
      "metadata": {
        "id": "fCAW-tTaS_xq"
      },
      "source": [
        "Crear el *object file*"
      ]
    },
    {
      "cell_type": "code",
      "execution_count": 23,
      "id": "k9l8QHazTEQq",
      "metadata": {
        "id": "k9l8QHazTEQq"
      },
      "outputs": [],
      "source": [
        "! gcc -c ord_burbuja_int.c"
      ]
    },
    {
      "cell_type": "markdown",
      "id": "Ib1zEj1DTIqd",
      "metadata": {
        "id": "Ib1zEj1DTIqd"
      },
      "source": [
        "Crear la *shared library*"
      ]
    },
    {
      "cell_type": "code",
      "execution_count": 24,
      "id": "c10df5c9",
      "metadata": {
        "id": "c10df5c9"
      },
      "outputs": [],
      "source": [
        "! gcc -shared ord_burbuja_int.o -o ord_burbuja_int.so"
      ]
    },
    {
      "cell_type": "markdown",
      "id": "nnZ2YZvnTTaQ",
      "metadata": {
        "id": "nnZ2YZvnTTaQ"
      },
      "source": [
        "Por estar usando arreglos, se hace necesario invocar el módulo `numpy`"
      ]
    },
    {
      "cell_type": "code",
      "execution_count": 25,
      "id": "hRiIUCmMTZST",
      "metadata": {
        "id": "hRiIUCmMTZST"
      },
      "outputs": [],
      "source": [
        "import numpy"
      ]
    },
    {
      "cell_type": "code",
      "execution_count": 26,
      "id": "f1e77250",
      "metadata": {
        "id": "f1e77250"
      },
      "outputs": [],
      "source": [
        "def ctypes_ord_burbuja_int():\n",
        "    # indicar la ruta de la shared library\n",
        "    libfile = './ord_burbuja_int.so'\n",
        "\n",
        "    # cargar la shared library\n",
        "    lib = ctypes.CDLL(libfile)\n",
        "\n",
        "    # tipo de dato de los argumentos\n",
        "    lib.ord_burbuja_int.argtypes = [\n",
        "        numpy.ctypeslib.ndpointer(dtype=numpy.int32),\n",
        "        ctypes.c_int\n",
        "    ]\n",
        "    \n",
        "    # funcion configurada\n",
        "    return lib.ord_burbuja_int"
      ]
    },
    {
      "cell_type": "code",
      "execution_count": 27,
      "id": "64d35012",
      "metadata": {
        "id": "64d35012"
      },
      "outputs": [],
      "source": [
        "c_ord_burbuja_int = ctypes_ord_burbuja_int()"
      ]
    },
    {
      "cell_type": "markdown",
      "id": "YF9U45hpTqjY",
      "metadata": {
        "id": "YF9U45hpTqjY"
      },
      "source": [
        "### Prueba de funcionalidad de `ord_burbuja_int`"
      ]
    },
    {
      "cell_type": "markdown",
      "id": "08NDva56T1mB",
      "metadata": {
        "id": "08NDva56T1mB"
      },
      "source": [
        "Como esta función opera sobre arreglos con números enteros, lo primero es generar un arreglo con números enteros."
      ]
    },
    {
      "cell_type": "code",
      "execution_count": 28,
      "id": "5rQJj5I8TwiM",
      "metadata": {
        "id": "5rQJj5I8TwiM"
      },
      "outputs": [],
      "source": [
        "arr = numpy.asarray([9, 5, 4, 3, 1, 7, 2, 8]).astype(numpy.int32)"
      ]
    },
    {
      "cell_type": "code",
      "execution_count": 29,
      "id": "CXc-EuODU9-2",
      "metadata": {
        "colab": {
          "base_uri": "https://localhost:8080/"
        },
        "id": "CXc-EuODU9-2",
        "outputId": "a07e2604-f375-46fe-cd4c-4a49e250805e"
      },
      "outputs": [
        {
          "data": {
            "text/plain": [
              "array([9, 5, 4, 3, 1, 7, 2, 8], dtype=int32)"
            ]
          },
          "execution_count": 29,
          "metadata": {},
          "output_type": "execute_result"
        }
      ],
      "source": [
        "arr"
      ]
    },
    {
      "cell_type": "markdown",
      "id": "1Rf2DACCUICC",
      "metadata": {
        "id": "1Rf2DACCUICC"
      },
      "source": [
        "El tamaño del arreglo se obtiene con el propio arreglo"
      ]
    },
    {
      "cell_type": "code",
      "execution_count": 30,
      "id": "QSJzMUQVUEqO",
      "metadata": {
        "colab": {
          "base_uri": "https://localhost:8080/"
        },
        "id": "QSJzMUQVUEqO",
        "outputId": "628165f3-81ac-4cc7-ee0f-d103ad9e2f1f"
      },
      "outputs": [
        {
          "data": {
            "text/plain": [
              "8"
            ]
          },
          "execution_count": 30,
          "metadata": {},
          "output_type": "execute_result"
        }
      ],
      "source": [
        "arr.size"
      ]
    },
    {
      "cell_type": "code",
      "execution_count": 31,
      "id": "sSP5_fCKUMjG",
      "metadata": {
        "colab": {
          "base_uri": "https://localhost:8080/"
        },
        "id": "sSP5_fCKUMjG",
        "outputId": "e7d9f51b-2ca6-4223-9a87-472cab23c402"
      },
      "outputs": [
        {
          "data": {
            "text/plain": [
              "7"
            ]
          },
          "execution_count": 31,
          "metadata": {},
          "output_type": "execute_result"
        }
      ],
      "source": [
        "c_ord_burbuja_int(arr, arr.size)"
      ]
    },
    {
      "cell_type": "markdown",
      "id": "RdAsusF8Upw3",
      "metadata": {
        "id": "RdAsusF8Upw3"
      },
      "source": [
        "No se deje confundir por el resultado anterior. Se observa que imprime un 7, pero no tiene nada que ver. Si usted recuerda, nuestra función de ordenamiento operaba sobre el propio arreglo, esto significa que para observar nuestro resultado tendríamos que ver como quedó el arreglo luego de ejecutar la función."
      ]
    },
    {
      "cell_type": "code",
      "execution_count": 32,
      "id": "AE2NsFKLUWEQ",
      "metadata": {
        "colab": {
          "base_uri": "https://localhost:8080/"
        },
        "id": "AE2NsFKLUWEQ",
        "outputId": "a5012204-d0da-4da4-c516-79dbec29264a"
      },
      "outputs": [
        {
          "data": {
            "text/plain": [
              "array([1, 2, 3, 4, 5, 7, 8, 9], dtype=int32)"
            ]
          },
          "execution_count": 32,
          "metadata": {},
          "output_type": "execute_result"
        }
      ],
      "source": [
        "arr"
      ]
    },
    {
      "cell_type": "markdown",
      "id": "4d7A4GjeVJ-S",
      "metadata": {
        "id": "4d7A4GjeVJ-S"
      },
      "source": [
        "Como puede notar, los elementos de `arr` ya se encuentran en orden de menor a mayor."
      ]
    },
    {
      "cell_type": "markdown",
      "id": "_HDhJA7pVXKc",
      "metadata": {
        "id": "_HDhJA7pVXKc"
      },
      "source": [
        "### Prueba de precisión de `ord_burbuja_int`"
      ]
    },
    {
      "cell_type": "markdown",
      "id": "KA379sjRVnuO",
      "metadata": {
        "id": "KA379sjRVnuO"
      },
      "source": [
        "Para medir la precisión de nuestra implementación, lo primero sería tener una función de referencia. Para esto se implementará la misma función que se hizo en C, en Python, y luego se compararán los resultados.\n",
        "\n"
      ]
    },
    {
      "cell_type": "code",
      "execution_count": 33,
      "id": "3ddO31D-Vcee",
      "metadata": {
        "id": "3ddO31D-Vcee"
      },
      "outputs": [],
      "source": [
        "l = numpy.asarray([9, 5, 4, 3, 1, 7, 2, 8]).astype(numpy.int32)"
      ]
    },
    {
      "attachments": {},
      "cell_type": "markdown",
      "id": "cnnV_zNbVs-O",
      "metadata": {
        "id": "cnnV_zNbVs-O"
      },
      "source": [
        "Esta función se llamará `py_ord_burbuja_int`"
      ]
    },
    {
      "cell_type": "code",
      "execution_count": 34,
      "id": "werz_u_wVlI6",
      "metadata": {
        "id": "werz_u_wVlI6"
      },
      "outputs": [],
      "source": [
        "def py_ord_burbuja_int(arr):\n",
        "    n = len(arr)\n",
        "    for i in range(n):\n",
        "        for j in range(n-i-1):\n",
        "            if arr[j] > arr[j+1]:\n",
        "                arr[j], arr[j+1] = arr[j+1], arr[j]\n"
      ]
    },
    {
      "cell_type": "markdown",
      "id": "QZCTGzbVZwpr",
      "metadata": {
        "id": "QZCTGzbVZwpr"
      },
      "source": [
        "Usamos la función que hemos hecho en Python sobre nuestro arreglo `l`"
      ]
    },
    {
      "cell_type": "code",
      "execution_count": 35,
      "id": "0mFo-cGcVmVj",
      "metadata": {
        "id": "0mFo-cGcVmVj"
      },
      "outputs": [],
      "source": [
        "py_ord_burbuja_int(l)"
      ]
    },
    {
      "cell_type": "markdown",
      "id": "rWLFeSYnVzN6",
      "metadata": {
        "id": "rWLFeSYnVzN6"
      },
      "source": [
        "El arreglo ordenado queda así"
      ]
    },
    {
      "cell_type": "code",
      "execution_count": 36,
      "id": "wjY0p6CEZs4k",
      "metadata": {
        "colab": {
          "base_uri": "https://localhost:8080/"
        },
        "id": "wjY0p6CEZs4k",
        "outputId": "c232a9f7-9d8e-4e92-aa17-d29a2fb5461a"
      },
      "outputs": [
        {
          "data": {
            "text/plain": [
              "array([1, 2, 3, 4, 5, 7, 8, 9], dtype=int32)"
            ]
          },
          "execution_count": 36,
          "metadata": {},
          "output_type": "execute_result"
        }
      ],
      "source": [
        "l"
      ]
    },
    {
      "cell_type": "markdown",
      "id": "QqhyYLyqWm65",
      "metadata": {
        "id": "QqhyYLyqWm65"
      },
      "source": [
        "¿Cómo se mide el error relativo entre dos arreglos? El módulo `numpy` nos proporciona un sub-módulo llamado `linalg` que, al mismo tiempo, nos brinda la función `norm`. Con esta función se puede medir el error relativo entre dos arreglos."
      ]
    },
    {
      "cell_type": "code",
      "execution_count": 37,
      "id": "v0OIIpX9XAJP",
      "metadata": {
        "id": "v0OIIpX9XAJP"
      },
      "outputs": [],
      "source": [
        "from numpy import linalg as LA"
      ]
    },
    {
      "cell_type": "code",
      "execution_count": 38,
      "id": "IGR-kZpnXEcP",
      "metadata": {
        "id": "IGR-kZpnXEcP"
      },
      "outputs": [],
      "source": [
        "arr = numpy.asarray([9, 5, 4, 3, 1, 7, 2, 8]).astype(numpy.int32)"
      ]
    },
    {
      "cell_type": "code",
      "execution_count": 39,
      "id": "gIMsH97KXL9y",
      "metadata": {
        "colab": {
          "base_uri": "https://localhost:8080/"
        },
        "id": "gIMsH97KXL9y",
        "outputId": "44774e0a-d986-4caa-caa4-e5e8be44e737"
      },
      "outputs": [
        {
          "data": {
            "text/plain": [
              "7"
            ]
          },
          "execution_count": 39,
          "metadata": {},
          "output_type": "execute_result"
        }
      ],
      "source": [
        "c_ord_burbuja_int(arr, arr.size)"
      ]
    },
    {
      "cell_type": "code",
      "execution_count": 40,
      "id": "2_nP2hk7XUiN",
      "metadata": {
        "colab": {
          "base_uri": "https://localhost:8080/"
        },
        "id": "2_nP2hk7XUiN",
        "outputId": "cc9129e2-0e76-4352-d2d9-b1517692d0dd"
      },
      "outputs": [
        {
          "data": {
            "text/plain": [
              "array([1, 2, 3, 4, 5, 7, 8, 9], dtype=int32)"
            ]
          },
          "execution_count": 40,
          "metadata": {},
          "output_type": "execute_result"
        }
      ],
      "source": [
        "arr"
      ]
    },
    {
      "cell_type": "code",
      "execution_count": 41,
      "id": "zkteSLjBWmJO",
      "metadata": {
        "colab": {
          "base_uri": "https://localhost:8080/"
        },
        "id": "zkteSLjBWmJO",
        "outputId": "cb197ecf-c452-42e6-fbed-af498ca9bf1d"
      },
      "outputs": [
        {
          "data": {
            "text/plain": [
              "0.0"
            ]
          },
          "execution_count": 41,
          "metadata": {},
          "output_type": "execute_result"
        }
      ],
      "source": [
        "LA.norm(l - arr) / LA.norm(l)"
      ]
    },
    {
      "cell_type": "markdown",
      "id": "kAi1V6MkXa0d",
      "metadata": {
        "id": "kAi1V6MkXa0d"
      },
      "source": [
        "Como puede notar el error relativo también salió `0.0` lo que significa que nuestra función calculó un resultado numericamente idéntico al de Python"
      ]
    },
    {
      "cell_type": "markdown",
      "id": "28vUc4DpXlD3",
      "metadata": {
        "id": "28vUc4DpXlD3"
      },
      "source": [
        "### Prueba de tiempo"
      ]
    },
    {
      "cell_type": "markdown",
      "id": "lem-KB7VXqdr",
      "metadata": {
        "id": "lem-KB7VXqdr"
      },
      "source": [
        "Ahora la idea sería observar que tanto se demora la función que hemos hecho en C, respecto de la función que hemos hecho en Python. Primero, note que la función en C tiene dos argumentos: el arreglo y el tamaño del arreglo. Como ambos argumentos influyen en el tiempo de ejecución de la función se realizarán pruebas para varios arreglos de distintos tamaños, y se verá como varía el tiempo en función del tamaño de los arreglos."
      ]
    },
    {
      "cell_type": "markdown",
      "id": "zERTWYT9djxH",
      "metadata": {
        "id": "zERTWYT9djxH"
      },
      "source": [
        "Las mediciones de tiempo se realizarán con la función `perf_counter` del módulo `time`."
      ]
    },
    {
      "cell_type": "code",
      "execution_count": 42,
      "id": "tiuke5Cud_o5",
      "metadata": {
        "id": "tiuke5Cud_o5"
      },
      "outputs": [],
      "source": [
        "import time"
      ]
    },
    {
      "cell_type": "markdown",
      "id": "B-QPgVjLaJjS",
      "metadata": {
        "id": "B-QPgVjLaJjS"
      },
      "source": [
        "Ahora, se precisa de un procedimiento auxiliar. Crear arreglos de distintos tamaños de forma automática durante las pruebas. Estos arreglos deben estar formados por números aleatorios enteros. Lo bueno, es que `numpy` ya brinda esta opción. Por ejemplo, si quisiera crear un arreglo de 20 elementos con números que van del 0 al 4:"
      ]
    },
    {
      "cell_type": "code",
      "execution_count": 43,
      "id": "XtkO4DY4XZ8_",
      "metadata": {
        "colab": {
          "base_uri": "https://localhost:8080/"
        },
        "id": "XtkO4DY4XZ8_",
        "outputId": "b507768a-5e02-4d24-c05d-3fc32e6bffa5"
      },
      "outputs": [
        {
          "data": {
            "text/plain": [
              "array([0, 1, 4, 0, 1, 1, 4, 4, 3, 0, 4, 3, 1, 0, 0, 2, 1, 0, 1, 2])"
            ]
          },
          "execution_count": 43,
          "metadata": {},
          "output_type": "execute_result"
        }
      ],
      "source": [
        "numpy.random.randint(5, size=(20))"
      ]
    },
    {
      "cell_type": "markdown",
      "id": "R-h6HUbwbiM8",
      "metadata": {
        "id": "R-h6HUbwbiM8"
      },
      "source": [
        "Lo otro es decidir sobre que tamaños se harán las pruebas. En este caso serán los siguientes tamaños:"
      ]
    },
    {
      "cell_type": "code",
      "execution_count": 44,
      "id": "aguViDvLb1VQ",
      "metadata": {
        "id": "aguViDvLb1VQ"
      },
      "outputs": [],
      "source": [
        "tams = 2 ** numpy.arange(5, 11)"
      ]
    },
    {
      "cell_type": "code",
      "execution_count": 45,
      "id": "XMXc4SX1b_ml",
      "metadata": {
        "colab": {
          "base_uri": "https://localhost:8080/"
        },
        "id": "XMXc4SX1b_ml",
        "outputId": "f1fe1c6f-7eff-4bf0-d099-654d3857abc0"
      },
      "outputs": [
        {
          "data": {
            "text/plain": [
              "array([  32,   64,  128,  256,  512, 1024])"
            ]
          },
          "execution_count": 45,
          "metadata": {},
          "output_type": "execute_result"
        }
      ],
      "source": [
        "tams"
      ]
    },
    {
      "cell_type": "markdown",
      "id": "iNV0G-YTcBEL",
      "metadata": {
        "id": "iNV0G-YTcBEL"
      },
      "source": [
        "Por último, se debe decidir cuantas mediciones se realizarán para cada tamaño:"
      ]
    },
    {
      "cell_type": "code",
      "execution_count": 46,
      "id": "VlD1t-i2cK0o",
      "metadata": {
        "id": "VlD1t-i2cK0o"
      },
      "outputs": [],
      "source": [
        "veces = 50"
      ]
    },
    {
      "cell_type": "markdown",
      "id": "Cgfo3XOncQ-q",
      "metadata": {
        "id": "Cgfo3XOncQ-q"
      },
      "source": [
        "Ahora, lo que se necesita es tener variables que permitan contener los tiempos que hemos medido. Para este propósito se emplearán listas:"
      ]
    },
    {
      "cell_type": "code",
      "execution_count": 47,
      "id": "pP5pjJpScO5h",
      "metadata": {
        "id": "pP5pjJpScO5h"
      },
      "outputs": [],
      "source": [
        "t_py = []\n",
        "t_c = []"
      ]
    },
    {
      "cell_type": "markdown",
      "id": "k65llWvNchDq",
      "metadata": {
        "id": "k65llWvNchDq"
      },
      "source": [
        "Tenga presente que se van a realizar varias mediciones."
      ]
    },
    {
      "cell_type": "code",
      "execution_count": 48,
      "id": "9bAZjB5ojJyY",
      "metadata": {
        "id": "9bAZjB5ojJyY"
      },
      "outputs": [],
      "source": [
        "# para el primer tamaño\n",
        "tam = tams[0]\n",
        "# se crea el arreglo\n",
        "arr = numpy.random.randint(256, size=(tam)).astype(numpy.int32)\n",
        "# agumento para la función de Python\n",
        "py_arr = arr.copy()\n",
        "# argumento para la función de C\n",
        "c_arr = arr.copy()\n",
        "# lista para las 50 mediciones de Python\n",
        "t_py_i = []\n",
        "# lista para las 50 mediciones de C\n",
        "t_c_i = []"
      ]
    },
    {
      "cell_type": "markdown",
      "id": "rLvdXPUMkbfx",
      "metadata": {
        "id": "rLvdXPUMkbfx"
      },
      "source": [
        "Primero, veamos como sería hacer las mediciones solo para este tamaño"
      ]
    },
    {
      "cell_type": "code",
      "execution_count": 49,
      "id": "hNIJG2Veji3K",
      "metadata": {
        "id": "hNIJG2Veji3K"
      },
      "outputs": [],
      "source": [
        "for i in range(veces):\n",
        "  # se empieza a medir el tiempo de la función de Python\n",
        "  tic = time.perf_counter()\n",
        "  # se llama a la función de Python\n",
        "  py_ord_burbuja_int(py_arr)\n",
        "  # se termina de medir el tiempo de la función de Python\n",
        "  toc = time.perf_counter()\n",
        "  # se guarda la medición en la lista de Python\n",
        "  t_py_i.append(toc-tic)\n",
        "  \n",
        "  # se empieza a medir el tiempo de la función de C\n",
        "  tic = time.perf_counter()\n",
        "  # se llama a la función de C\n",
        "  c_ord_burbuja_int(c_arr, c_arr.size)\n",
        "  # se termina de medir el tiempo de la función de C\n",
        "  toc = time.perf_counter()\n",
        "  # se guarda la medición en la lista de C\n",
        "  t_c_i.append(toc-tic)"
      ]
    },
    {
      "cell_type": "markdown",
      "id": "ULzPPZZGkPY-",
      "metadata": {
        "id": "ULzPPZZGkPY-"
      },
      "source": [
        "Si grafican las mediciones se observa lo siguiente:"
      ]
    },
    {
      "cell_type": "code",
      "execution_count": 50,
      "id": "_1L1QaJhfrR0",
      "metadata": {
        "id": "_1L1QaJhfrR0"
      },
      "outputs": [],
      "source": [
        "import matplotlib.pyplot as plt"
      ]
    },
    {
      "cell_type": "code",
      "execution_count": 51,
      "id": "xxjtFvRpjxuh",
      "metadata": {
        "colab": {
          "base_uri": "https://localhost:8080/",
          "height": 487
        },
        "id": "xxjtFvRpjxuh",
        "outputId": "5ef17d7c-b3ff-4c32-f6f7-feaa55f7f505"
      },
      "outputs": [
        {
          "data": {
            "image/png": "[encoded data removed]",
            "text/plain": [
              "<Figure size 640x480 with 1 Axes>"
            ]
          },
          "metadata": {},
          "output_type": "display_data"
        }
      ],
      "source": [
        "plt.plot(range(veces), t_py_i, label='Python')\n",
        "plt.legend()\n",
        "plt.grid(True)\n",
        "plt.title(f'Tiempo de ejecución en Python para un tamaño igual a {tam}')\n",
        "plt.tight_layout()"
      ]
    },
    {
      "cell_type": "code",
      "execution_count": 52,
      "id": "Yc3mA3U1kvnn",
      "metadata": {
        "colab": {
          "base_uri": "https://localhost:8080/",
          "height": 471
        },
        "id": "Yc3mA3U1kvnn",
        "outputId": "90b19e06-461f-464f-d563-bb3693f81991"
      },
      "outputs": [
        {
          "data": {
            "image/png": "[encoded data removed]",
            "text/plain": [
              "<Figure size 640x480 with 1 Axes>"
            ]
          },
          "metadata": {},
          "output_type": "display_data"
        }
      ],
      "source": [
        "plt.plot(range(veces), t_c_i, label='C')\n",
        "plt.legend()\n",
        "plt.grid(True)\n",
        "plt.title(f'Tiempo de ejecución en C para un tamaño igual a {tam}')\n",
        "plt.tight_layout()"
      ]
    },
    {
      "cell_type": "markdown",
      "id": "Pone0J52kWfx",
      "metadata": {
        "id": "Pone0J52kWfx"
      },
      "source": [
        "En ambos casos resulta bastante irregular. ¿Cómo se obtendría entonces el tiempo para un tamaño si se tienen varias mediciones para ese tamaño? Pues, se podría calcular la media aritmética de las mediciones, pero debido a que las mediciones son irregulares, **se empleará la mediana**. La función que calcula la mediana se obtendrá del módulo `statistics`"
      ]
    },
    {
      "cell_type": "code",
      "execution_count": 53,
      "id": "rmgcNHYgevlb",
      "metadata": {
        "id": "rmgcNHYgevlb"
      },
      "outputs": [],
      "source": [
        "import statistics"
      ]
    },
    {
      "attachments": {},
      "cell_type": "markdown",
      "id": "7a4e209a",
      "metadata": {},
      "source": [
        "Por ejemplo, si muestra en una gráfica la mediana de las mediciones de Python junto a todas sus mediciones se vería lo siguiente"
      ]
    },
    {
      "cell_type": "code",
      "execution_count": 54,
      "id": "30b56b1f",
      "metadata": {},
      "outputs": [
        {
          "data": {
            "image/png": "[encoded data removed]",
            "text/plain": [
              "<Figure size 640x480 with 1 Axes>"
            ]
          },
          "metadata": {},
          "output_type": "display_data"
        }
      ],
      "source": [
        "plt.plot(range(veces), t_py_i, label='Tiempos de Python')\n",
        "plt.plot(range(veces), [statistics.median(t_py_i)]*len(t_py_i), label='Mediana de los tiempos de Python')\n",
        "plt.legend()\n",
        "plt.grid(True)\n",
        "plt.title(f'Tiempo de ejecución en Python para un tamaño igual a {tam}')\n",
        "plt.tight_layout()"
      ]
    },
    {
      "attachments": {},
      "cell_type": "markdown",
      "id": "822757e0",
      "metadata": {},
      "source": [
        "Y con C"
      ]
    },
    {
      "cell_type": "code",
      "execution_count": 55,
      "id": "0e2b987b",
      "metadata": {},
      "outputs": [
        {
          "data": {
            "image/png": "[encoded data removed]",
            "text/plain": [
              "<Figure size 640x480 with 1 Axes>"
            ]
          },
          "metadata": {},
          "output_type": "display_data"
        }
      ],
      "source": [
        "plt.plot(range(veces), t_c_i, label='Tiempos de C')\n",
        "plt.plot(range(veces), [statistics.median(t_c_i)]*len(t_c_i), label='Mediana de los tiempos de C')\n",
        "plt.legend()\n",
        "plt.grid(True)\n",
        "plt.title(f'Tiempo de ejecución en C para un tamaño igual a {tam}')\n",
        "plt.tight_layout()"
      ]
    },
    {
      "cell_type": "markdown",
      "id": "WLwZUDtFlTQm",
      "metadata": {
        "id": "WLwZUDtFlTQm"
      },
      "source": [
        "Ahora, lo que es realizar el procedimiento anterior, pero para todos los tamaños."
      ]
    },
    {
      "cell_type": "code",
      "execution_count": 56,
      "id": "U3CjWf8mcgW_",
      "metadata": {
        "id": "U3CjWf8mcgW_"
      },
      "outputs": [],
      "source": [
        "for tam in tams:\n",
        "  # se crea el arreglo\n",
        "  arr = numpy.random.randint(256, size=(tam)).astype(numpy.int32)\n",
        "  # agumento para la función de Python\n",
        "  py_arr = arr.copy()\n",
        "  # argumento para la función de C\n",
        "  c_arr = arr.copy()\n",
        "  # lista para las 50 mediciones de Python\n",
        "  t_py_i = []\n",
        "  # lista para las 50 mediciones de C\n",
        "  t_c_i = []\n",
        "\n",
        "  for i in range(veces):\n",
        "    # se empieza a medir el tiempo de la función de Python\n",
        "    tic = time.perf_counter()\n",
        "    # se llama a la función de Python\n",
        "    py_ord_burbuja_int(py_arr)\n",
        "    # se termina de medir el tiempo de la función de Python\n",
        "    toc = time.perf_counter()\n",
        "    # se guarda la medición en la lista de Python\n",
        "    t_py_i.append(toc-tic)\n",
        "\n",
        "    # se empieza a medir el tiempo de la función de C\n",
        "    tic = time.perf_counter()\n",
        "    # se llama a la función de C\n",
        "    c_ord_burbuja_int(c_arr, c_arr.size)\n",
        "    # se termina de medir el tiempo de la función de C\n",
        "    toc = time.perf_counter()\n",
        "    # se guarda la medición en la lista de C\n",
        "    t_c_i.append(toc-tic)\n",
        "\n",
        "  # se guarda la mediana de las 50 mediciones de Python\n",
        "  t_py.append(statistics.median(t_py_i))\n",
        "  # se guarda la mediana de las 50 mediciones de C\n",
        "  t_c.append(statistics.median(t_c_i))"
      ]
    },
    {
      "cell_type": "markdown",
      "id": "u_IAFjlJfr2X",
      "metadata": {
        "id": "u_IAFjlJfr2X"
      },
      "source": [
        "Y con esto ya se tienen gráficas de como varía el tiempo de ejecución de ambas funciones respecto del tamaño del arreglo"
      ]
    },
    {
      "cell_type": "code",
      "execution_count": 57,
      "id": "8XCVWOIkf1Cq",
      "metadata": {
        "colab": {
          "base_uri": "https://localhost:8080/",
          "height": 487
        },
        "id": "8XCVWOIkf1Cq",
        "outputId": "7219203a-a203-416f-e746-194ea7b4e3fc"
      },
      "outputs": [
        {
          "data": {
            "image/png": "[encoded data removed]",
            "text/plain": [
              "<Figure size 640x480 with 1 Axes>"
            ]
          },
          "metadata": {},
          "output_type": "display_data"
        }
      ],
      "source": [
        "plt.plot(tams, t_py, label='Python')\n",
        "plt.plot(tams, t_c, label='C')\n",
        "plt.legend()\n",
        "plt.grid(True)\n",
        "plt.title('Tiempo de ejecución por tamaño')\n",
        "plt.tight_layout()"
      ]
    },
    {
      "cell_type": "markdown",
      "id": "NUK-KnXhgkjk",
      "metadata": {
        "id": "NUK-KnXhgkjk"
      },
      "source": [
        "La gráfica de tiempo, por si sola, no parece aportar mucha información. Lo único que se podría afirmar es que C es más rápido que Python. ¿Qué tanto más rápido? Para eso se presenta un gráfico de *Speedup*"
      ]
    },
    {
      "cell_type": "code",
      "execution_count": 58,
      "id": "Ay_lkjt9gj03",
      "metadata": {
        "colab": {
          "base_uri": "https://localhost:8080/",
          "height": 487
        },
        "id": "Ay_lkjt9gj03",
        "outputId": "7bd1b3f7-4ba6-4c0c-9524-d47f25a6ca94"
      },
      "outputs": [
        {
          "data": {
            "image/png": "[encoded data removed]",
            "text/plain": [
              "<Figure size 640x480 with 1 Axes>"
            ]
          },
          "metadata": {},
          "output_type": "display_data"
        }
      ],
      "source": [
        "plt.plot(tams, numpy.asarray(t_py)/numpy.asarray(t_c))\n",
        "plt.grid(True)\n",
        "plt.title('Speedup por tamaño')\n",
        "plt.tight_layout()"
      ]
    },
    {
      "cell_type": "markdown",
      "id": "qtfWdJGNhIko",
      "metadata": {
        "id": "qtfWdJGNhIko"
      },
      "source": [
        "Ahora sí se puede tener una idea de que tan más rápido llega a ser C respecto de Python para los tamaños empleados."
      ]
    },
    {
      "attachments": {},
      "cell_type": "markdown",
      "id": "e3819edd",
      "metadata": {},
      "source": [
        "## Cuarto ejemplo"
      ]
    },
    {
      "attachments": {},
      "cell_type": "markdown",
      "id": "af7c8929",
      "metadata": {},
      "source": [
        "El cuarto ejemplo consiste en una modificación del tercer ejemplo. En lugar de modificar el arreglo, los elementos ordenados serán colocados en otro arreglo, el cual será modificado por referencia."
      ]
    },
    {
      "attachments": {},
      "cell_type": "markdown",
      "id": "125470a8",
      "metadata": {},
      "source": [
        "### Codificación"
      ]
    },
    {
      "cell_type": "code",
      "execution_count": 59,
      "id": "4100842a",
      "metadata": {},
      "outputs": [
        {
          "name": "stdout",
          "output_type": "stream",
          "text": [
            "Writing ord_burbuja_2_int.c\n"
          ]
        }
      ],
      "source": [
        "%%file ord_burbuja_2_int.c\n",
        "#include <string.h>\n",
        "void ord_burbuja_2_int(int* arr, int* res, int size){\n",
        "    memcpy(res, arr, size * sizeof(int));\n",
        "    int i, j, temp;\n",
        "    for (i = 0; i < size-1; i++) {\n",
        "        for (j = 0; j < size-1-i; j++) {\n",
        "            if (res[j] > res[j+1]) {\n",
        "                temp = res[j];\n",
        "                res[j] = res[j+1];\n",
        "                res[j+1] = temp;\n",
        "            }\n",
        "        }\n",
        "    }\n",
        "}"
      ]
    },
    {
      "attachments": {},
      "cell_type": "markdown",
      "id": "d45b9fba",
      "metadata": {},
      "source": [
        "Crear el *object file*"
      ]
    },
    {
      "cell_type": "code",
      "execution_count": 60,
      "id": "c5d20e00",
      "metadata": {},
      "outputs": [],
      "source": [
        "! gcc -c ord_burbuja_2_int.c"
      ]
    },
    {
      "attachments": {},
      "cell_type": "markdown",
      "id": "5789998b",
      "metadata": {},
      "source": [
        "Crear la *shared library*"
      ]
    },
    {
      "cell_type": "code",
      "execution_count": 61,
      "id": "61f81dc2",
      "metadata": {},
      "outputs": [],
      "source": [
        "! gcc -shared ord_burbuja_2_int.o -o ord_burbuja_2_int.so"
      ]
    },
    {
      "attachments": {},
      "cell_type": "markdown",
      "id": "d3347e74",
      "metadata": {},
      "source": [
        "Enlazar con `ctypes`"
      ]
    },
    {
      "cell_type": "code",
      "execution_count": 62,
      "id": "ecadbffd",
      "metadata": {},
      "outputs": [],
      "source": [
        "def ctypes_ord_burbuja_2_int():\n",
        "    # indicar la ruta de la shared library\n",
        "    libfile = './ord_burbuja_2_int.so'\n",
        "\n",
        "    # cargar la shared library\n",
        "    lib = ctypes.CDLL(libfile)\n",
        "\n",
        "    # tipo de dato de los argumentos\n",
        "    lib.ord_burbuja_2_int.argtypes = [\n",
        "        numpy.ctypeslib.ndpointer(dtype=numpy.int32),\n",
        "        numpy.ctypeslib.ndpointer(dtype=numpy.int32),\n",
        "        ctypes.c_int\n",
        "    ]\n",
        "    \n",
        "    # funcion configurada\n",
        "    return lib.ord_burbuja_2_int"
      ]
    },
    {
      "cell_type": "code",
      "execution_count": 63,
      "id": "b6bb84c8",
      "metadata": {},
      "outputs": [],
      "source": [
        "c_ord_burbuja_2_int_raw = ctypes_ord_burbuja_2_int()"
      ]
    },
    {
      "attachments": {},
      "cell_type": "markdown",
      "id": "3bca5f5d",
      "metadata": {},
      "source": [
        "### Prueba de funcionalidad de `ord_burbuja_2_int`"
      ]
    },
    {
      "attachments": {},
      "cell_type": "markdown",
      "id": "e3b4a19e",
      "metadata": {},
      "source": [
        "Como arreglo de entrada se usará el mismo que en el ejemplo anterior, y como arreglo de resultado se creará uno lleno de zeros con las mismas dimensiones que el arreglo de entrada."
      ]
    },
    {
      "cell_type": "code",
      "execution_count": 64,
      "id": "6a5c701a",
      "metadata": {},
      "outputs": [],
      "source": [
        "arr = numpy.asarray([9, 5, 4, 3, 1, 7, 2, 8]).astype(numpy.int32)\n",
        "res = numpy.zeros_like(arr)"
      ]
    },
    {
      "attachments": {},
      "cell_type": "markdown",
      "id": "62b15994",
      "metadata": {},
      "source": [
        "Luego de usar la función"
      ]
    },
    {
      "cell_type": "code",
      "execution_count": 65,
      "id": "d69d7af1",
      "metadata": {},
      "outputs": [
        {
          "data": {
            "text/plain": [
              "7"
            ]
          },
          "execution_count": 65,
          "metadata": {},
          "output_type": "execute_result"
        }
      ],
      "source": [
        "c_ord_burbuja_2_int_raw(arr, res, arr.size)"
      ]
    },
    {
      "attachments": {},
      "cell_type": "markdown",
      "id": "8001fd39",
      "metadata": {},
      "source": [
        "Se ve que `arr` mantiene su valor original"
      ]
    },
    {
      "cell_type": "code",
      "execution_count": 66,
      "id": "663e4a18",
      "metadata": {},
      "outputs": [
        {
          "data": {
            "text/plain": [
              "array([9, 5, 4, 3, 1, 7, 2, 8], dtype=int32)"
            ]
          },
          "execution_count": 66,
          "metadata": {},
          "output_type": "execute_result"
        }
      ],
      "source": [
        "arr"
      ]
    },
    {
      "attachments": {},
      "cell_type": "markdown",
      "id": "c2505d26",
      "metadata": {},
      "source": [
        "Y que `res` tiene el arreglo ordenado"
      ]
    },
    {
      "cell_type": "code",
      "execution_count": 67,
      "id": "0d854021",
      "metadata": {},
      "outputs": [
        {
          "data": {
            "text/plain": [
              "array([1, 2, 3, 4, 5, 7, 8, 9], dtype=int32)"
            ]
          },
          "execution_count": 67,
          "metadata": {},
          "output_type": "execute_result"
        }
      ],
      "source": [
        "res"
      ]
    },
    {
      "attachments": {},
      "cell_type": "markdown",
      "id": "c2ff36d4",
      "metadata": {},
      "source": [
        "Ahora lo que haremos será envolver la función para que el proceso de crear el arreglo de resultado se haga de forma transparente al usuario"
      ]
    },
    {
      "cell_type": "code",
      "execution_count": 68,
      "id": "bfc9581a",
      "metadata": {},
      "outputs": [],
      "source": [
        "def c_ord_burbuja_2_int(arr):\n",
        "    res = numpy.zeros_like(arr)\n",
        "    c_ord_burbuja_2_int_raw(arr, res, arr.size)\n",
        "    return res"
      ]
    },
    {
      "attachments": {},
      "cell_type": "markdown",
      "id": "c8b48c54",
      "metadata": {},
      "source": [
        "De esta forma, ya se puede simplemente invocar la función con su entrada e inmediatamente se observará el resultado"
      ]
    },
    {
      "cell_type": "code",
      "execution_count": 69,
      "id": "ca1e1014",
      "metadata": {},
      "outputs": [
        {
          "data": {
            "text/plain": [
              "array([1, 2, 3, 4, 5, 7, 8, 9], dtype=int32)"
            ]
          },
          "execution_count": 69,
          "metadata": {},
          "output_type": "execute_result"
        }
      ],
      "source": [
        "c_ord_burbuja_2_int(arr)"
      ]
    },
    {
      "attachments": {},
      "cell_type": "markdown",
      "id": "cfdf75ca",
      "metadata": {},
      "source": [
        "### Prueba de precisión de `ord_burbuja_2_int`"
      ]
    },
    {
      "attachments": {},
      "cell_type": "markdown",
      "id": "b729549d",
      "metadata": {},
      "source": [
        "Igual que con el ejemplo anterior, se necesita una función de referencia. Por coherencia, también será una forma modificada del ejemplo anterior"
      ]
    },
    {
      "cell_type": "code",
      "execution_count": 70,
      "id": "9dcb3177",
      "metadata": {},
      "outputs": [],
      "source": [
        "def py_ord_burbuja_2_int(arr):\n",
        "    res = arr.copy()\n",
        "    n = len(res)\n",
        "    for i in range(n):\n",
        "        for j in range(n-i-1):\n",
        "            if res[j] > res[j+1]:\n",
        "                res[j], res[j+1] = res[j+1], res[j]\n",
        "    return res"
      ]
    },
    {
      "attachments": {},
      "cell_type": "markdown",
      "id": "bb78550d",
      "metadata": {},
      "source": [
        "Con la misma entrada que el ejemplo anterior"
      ]
    },
    {
      "cell_type": "code",
      "execution_count": 71,
      "id": "470fabea",
      "metadata": {},
      "outputs": [],
      "source": [
        "l = numpy.asarray([9, 5, 4, 3, 1, 7, 2, 8]).astype(numpy.int32)"
      ]
    },
    {
      "attachments": {},
      "cell_type": "markdown",
      "id": "91caae48",
      "metadata": {},
      "source": [
        "Se realiza la prueba"
      ]
    },
    {
      "cell_type": "code",
      "execution_count": 72,
      "id": "07a9cc30",
      "metadata": {},
      "outputs": [],
      "source": [
        "py_res = py_ord_burbuja_2_int(l)"
      ]
    },
    {
      "attachments": {},
      "cell_type": "markdown",
      "id": "959446f7",
      "metadata": {},
      "source": [
        "Y se observa el resultado"
      ]
    },
    {
      "cell_type": "code",
      "execution_count": 73,
      "id": "90dc21e5",
      "metadata": {},
      "outputs": [
        {
          "data": {
            "text/plain": [
              "array([1, 2, 3, 4, 5, 7, 8, 9], dtype=int32)"
            ]
          },
          "execution_count": 73,
          "metadata": {},
          "output_type": "execute_result"
        }
      ],
      "source": [
        "py_res"
      ]
    },
    {
      "attachments": {},
      "cell_type": "markdown",
      "id": "aff70a25",
      "metadata": {},
      "source": [
        "Y ahora también se puede medir el error relativo, pero de forma más directa"
      ]
    },
    {
      "cell_type": "code",
      "execution_count": 74,
      "id": "09d25900",
      "metadata": {},
      "outputs": [
        {
          "data": {
            "text/plain": [
              "0.0"
            ]
          },
          "execution_count": 74,
          "metadata": {},
          "output_type": "execute_result"
        }
      ],
      "source": [
        "LA.norm(py_ord_burbuja_2_int(l) - c_ord_burbuja_2_int(l)) / LA.norm(py_ord_burbuja_2_int(l))"
      ]
    },
    {
      "attachments": {},
      "cell_type": "markdown",
      "id": "7be0da04",
      "metadata": {},
      "source": [
        "Como puede notar el error relativo también salió `0.0` lo que significa que nuestra función calculó un resultado numericamente idéntico al de Python"
      ]
    },
    {
      "attachments": {},
      "cell_type": "markdown",
      "id": "bbc49fce",
      "metadata": {},
      "source": [
        "### Prueba de tiempo de `ord_burbuja_2_int`"
      ]
    },
    {
      "attachments": {},
      "cell_type": "markdown",
      "id": "f56a44c4",
      "metadata": {},
      "source": [
        "Se repetirán las mismas pruebas que en el ejemplo anterior, por lo que podemos reutilizar los tamaños y las veces, pero se necesitan nuevas listas de tiempos por ser nuevas funciones"
      ]
    },
    {
      "cell_type": "code",
      "execution_count": 75,
      "id": "6f5f70b1",
      "metadata": {},
      "outputs": [],
      "source": [
        "t_py_2 = []\n",
        "t_c_2 = []"
      ]
    },
    {
      "attachments": {},
      "cell_type": "markdown",
      "id": "1b54c6d2",
      "metadata": {},
      "source": [
        "La prueba para el primer tamaño"
      ]
    },
    {
      "cell_type": "code",
      "execution_count": 76,
      "id": "bd4814a3",
      "metadata": {},
      "outputs": [],
      "source": [
        "# para el primer tamaño\n",
        "tam = tams[0]\n",
        "# se crea el arreglo\n",
        "arr = numpy.random.randint(256, size=(tam)).astype(numpy.int32)\n",
        "# agumento para la función de Python\n",
        "py_arr = arr.copy()\n",
        "# argumento para la función de C\n",
        "c_arr = arr.copy()\n",
        "# lista para las 50 mediciones de Python\n",
        "t_py_2_i = []\n",
        "# lista para las 50 mediciones de C\n",
        "t_c_2_i = []"
      ]
    },
    {
      "attachments": {},
      "cell_type": "markdown",
      "id": "c22da007",
      "metadata": {},
      "source": [
        "Las mediciones"
      ]
    },
    {
      "cell_type": "code",
      "execution_count": 77,
      "id": "e3805a56",
      "metadata": {},
      "outputs": [],
      "source": [
        "for i in range(veces):\n",
        "  # se empieza a medir el tiempo de la función de Python\n",
        "  tic = time.perf_counter()\n",
        "  # se llama a la función de Python\n",
        "  py_ord_burbuja_2_int(py_arr)\n",
        "  # se termina de medir el tiempo de la función de Python\n",
        "  toc = time.perf_counter()\n",
        "  # se guarda la medición en la lista de Python\n",
        "  t_py_2_i.append(toc-tic)\n",
        "  \n",
        "  # se empieza a medir el tiempo de la función de C\n",
        "  tic = time.perf_counter()\n",
        "  # se llama a la función de C\n",
        "  c_ord_burbuja_2_int(c_arr)\n",
        "  # se termina de medir el tiempo de la función de C\n",
        "  toc = time.perf_counter()\n",
        "  # se guarda la medición en la lista de C\n",
        "  t_c_2_i.append(toc-tic)"
      ]
    },
    {
      "attachments": {},
      "cell_type": "markdown",
      "id": "e84ebd8c",
      "metadata": {},
      "source": [
        "Se grafican las mediciones de Python con la mediana"
      ]
    },
    {
      "cell_type": "code",
      "execution_count": 78,
      "id": "03ebf829",
      "metadata": {},
      "outputs": [
        {
          "data": {
            "image/png": "[encoded data removed]",
            "text/plain": [
              "<Figure size 640x480 with 1 Axes>"
            ]
          },
          "metadata": {},
          "output_type": "display_data"
        }
      ],
      "source": [
        "plt.plot(range(veces), t_py_2_i, label='Tiempos de Python')\n",
        "plt.plot(range(veces), [statistics.median(t_py_2_i)]*len(t_py_2_i), label='Mediana de los tiempos de Python')\n",
        "plt.legend()\n",
        "plt.grid(True)\n",
        "plt.title(f'Tiempo de ejecución en Python para un tamaño igual a {tam}')\n",
        "plt.tight_layout()"
      ]
    },
    {
      "attachments": {},
      "cell_type": "markdown",
      "id": "a8324d08",
      "metadata": {},
      "source": [
        "Y también para C"
      ]
    },
    {
      "cell_type": "code",
      "execution_count": 79,
      "id": "f8e8b767",
      "metadata": {},
      "outputs": [
        {
          "data": {
            "image/png": "[encoded data removed]",
            "text/plain": [
              "<Figure size 640x480 with 1 Axes>"
            ]
          },
          "metadata": {},
          "output_type": "display_data"
        }
      ],
      "source": [
        "plt.plot(range(veces), t_c_2_i, label='Tiempos de C')\n",
        "plt.plot(range(veces), [statistics.median(t_c_2_i)]*len(t_c_2_i), label='Mediana de los tiempos de C')\n",
        "plt.legend()\n",
        "plt.grid(True)\n",
        "plt.title(f'Tiempo de ejecución en Python para un tamaño igual a {tam}')\n",
        "plt.tight_layout()"
      ]
    },
    {
      "attachments": {},
      "cell_type": "markdown",
      "id": "61b8b474",
      "metadata": {},
      "source": [
        "Ahora se hace este proceso, pero para todos los tamaños"
      ]
    },
    {
      "cell_type": "code",
      "execution_count": 80,
      "id": "09fdea32",
      "metadata": {},
      "outputs": [],
      "source": [
        "for tam in tams:\n",
        "  # se crea el arreglo\n",
        "  arr = numpy.random.randint(256, size=(tam)).astype(numpy.int32)\n",
        "  # agumento para la función de Python\n",
        "  py_arr = arr.copy()\n",
        "  # argumento para la función de C\n",
        "  c_arr = arr.copy()\n",
        "  # lista para las 50 mediciones de Python\n",
        "  t_py_i = []\n",
        "  # lista para las 50 mediciones de C\n",
        "  t_c_i = []\n",
        "\n",
        "  for i in range(veces):\n",
        "    # se empieza a medir el tiempo de la función de Python\n",
        "    tic = time.perf_counter()\n",
        "    # se llama a la función de Python\n",
        "    py_ord_burbuja_2_int(py_arr)\n",
        "    # se termina de medir el tiempo de la función de Python\n",
        "    toc = time.perf_counter()\n",
        "    # se guarda la medición en la lista de Python\n",
        "    t_py_i.append(toc-tic)\n",
        "\n",
        "    # se empieza a medir el tiempo de la función de C\n",
        "    tic = time.perf_counter()\n",
        "    # se llama a la función de C\n",
        "    c_ord_burbuja_2_int(c_arr)\n",
        "    # se termina de medir el tiempo de la función de C\n",
        "    toc = time.perf_counter()\n",
        "    # se guarda la medición en la lista de C\n",
        "    t_c_i.append(toc-tic)\n",
        "\n",
        "  # se guarda la mediana de las 50 mediciones de Python\n",
        "  t_py_2.append(statistics.median(t_py_i))\n",
        "  # se guarda la mediana de las 50 mediciones de C\n",
        "  t_c_2.append(statistics.median(t_c_i))"
      ]
    },
    {
      "attachments": {},
      "cell_type": "markdown",
      "id": "144a334e",
      "metadata": {},
      "source": [
        "Ahora se mostrarán los tiempos"
      ]
    },
    {
      "cell_type": "code",
      "execution_count": 81,
      "id": "5267ae5f",
      "metadata": {},
      "outputs": [
        {
          "data": {
            "image/png": "[encoded data removed]",
            "text/plain": [
              "<Figure size 640x480 with 1 Axes>"
            ]
          },
          "metadata": {},
          "output_type": "display_data"
        }
      ],
      "source": [
        "plt.plot(tams, t_py, label='Python')\n",
        "plt.plot(tams, t_c, label='C')\n",
        "plt.legend()\n",
        "plt.grid(True)\n",
        "plt.title('Tiempo de ejecución por tamaño')\n",
        "plt.tight_layout()"
      ]
    },
    {
      "attachments": {},
      "cell_type": "markdown",
      "id": "7489e5d9",
      "metadata": {},
      "source": [
        "Y la gráfica de *SpeedUp*"
      ]
    },
    {
      "cell_type": "code",
      "execution_count": 82,
      "id": "9befb1e9",
      "metadata": {},
      "outputs": [
        {
          "data": {
            "image/png": "[encoded data removed]",
            "text/plain": [
              "<Figure size 640x480 with 1 Axes>"
            ]
          },
          "metadata": {},
          "output_type": "display_data"
        }
      ],
      "source": [
        "plt.plot(tams, numpy.asarray(t_py)/numpy.asarray(t_c))\n",
        "plt.grid(True)\n",
        "plt.title('Speedup por tamaño')\n",
        "plt.tight_layout()"
      ]
    },
    {
      "attachments": {},
      "cell_type": "markdown",
      "id": "3503cdb3",
      "metadata": {},
      "source": [
        "A partir de los resultados en el tercer y cuarto ejemplo. ¿Qué puede notar usted?"
      ]
    }
  ],
  "metadata": {
    "colab": {
      "provenance": []
    },
    "kernelspec": {
      "display_name": "Python 3 (ipykernel)",
      "language": "python",
      "name": "python3"
    },
    "language_info": {
      "codemirror_mode": {
        "name": "ipython",
        "version": 3
      },
      "file_extension": ".py",
      "mimetype": "text/x-python",
      "name": "python",
      "nbconvert_exporter": "python",
      "pygments_lexer": "ipython3",
      "version": "3.10.6"
    }
  },
  "nbformat": 4,
  "nbformat_minor": 5
}
