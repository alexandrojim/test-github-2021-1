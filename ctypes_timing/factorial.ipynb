{
  "cells": [
    {
      "cell_type": "markdown",
      "metadata": {
        "id": "Gl35FiFpd7Xg"
      },
      "source": [
        "# Factorial\n",
        "\n",
        "El $n!$ está definido de la siguiente manera:\n",
        "\n",
        "$$\n",
        "n! = 1 \\times 2 \\times 3 \\times \\cdots \\times (n-2) \\times (n-1) \\times n\n",
        "$$\n",
        "\n",
        "Ya sé que por ahí debe haber alguna definición loca de algún matemático ultra *crack* que consiguió alguna definición más seria, pero por lo pronto quedemos en que esta es su definición y que $ n \\in N$."
      ]
    },
    {
      "cell_type": "code",
      "execution_count": 1,
      "metadata": {
        "id": "g8N5T4Tm0IGj"
      },
      "outputs": [],
      "source": [
        "! rm *.c *.o *.so"
      ]
    },
    {
      "cell_type": "markdown",
      "metadata": {
        "id": "hnKgmcbje3La"
      },
      "source": [
        "Como $n \\in N$, para la primera implementación en `C` se considerará que `n` es un número entero sin signo, y para poder generar el mayor número posible se emplearán 64 bits."
      ]
    },
    {
      "cell_type": "code",
      "execution_count": 2,
      "metadata": {
        "colab": {
          "base_uri": "https://localhost:8080/"
        },
        "id": "szbY-SxCnode",
        "outputId": "bd97a35b-800f-4868-e4e2-24d0a2a545c8"
      },
      "outputs": [
        {
          "name": "stdout",
          "output_type": "stream",
          "text": [
            "Writing cla_factorial.c\n"
          ]
        }
      ],
      "source": [
        "%%file cla_factorial.c\n",
        "\n",
        "#include <stdint.h>\n",
        "\n",
        "uint64_t cla_factorial(uint64_t n) {\n",
        "    uint64_t p = 1;\n",
        "    for (uint64_t i = 1; i <= n; i++) {\n",
        "        p *= i;\n",
        "    }\n",
        "    return p;\n",
        "}"
      ]
    },
    {
      "cell_type": "markdown",
      "metadata": {
        "id": "sgKrCrjefYwN"
      },
      "source": [
        "Comandos para crear el *object file* y la *shared library*"
      ]
    },
    {
      "cell_type": "code",
      "execution_count": 3,
      "metadata": {
        "id": "WKS4ze9gn80w"
      },
      "outputs": [],
      "source": [
        "! gcc -c cla_factorial.c -o cla_factorial.o"
      ]
    },
    {
      "cell_type": "code",
      "execution_count": 4,
      "metadata": {
        "id": "g1bVCNKBn_i8"
      },
      "outputs": [],
      "source": [
        "! gcc -shared cla_factorial.o -o cla_factorial.so"
      ]
    },
    {
      "cell_type": "markdown",
      "metadata": {
        "id": "4q-bVP3WfiDF"
      },
      "source": [
        "Función para enlazar con `ctypes`"
      ]
    },
    {
      "cell_type": "code",
      "execution_count": 5,
      "metadata": {
        "id": "UPva6WiJmwrR"
      },
      "outputs": [],
      "source": [
        "import ctypes"
      ]
    },
    {
      "cell_type": "code",
      "execution_count": 6,
      "metadata": {
        "id": "LNiHJtfVn4tR"
      },
      "outputs": [],
      "source": [
        "def ctypes_cla_factorial():\n",
        "    # indicar la ruta de la shared library\n",
        "    libfile = './cla_factorial.so'\n",
        "\n",
        "    # cargar la shared library\n",
        "    lib = ctypes.CDLL(libfile)\n",
        "\n",
        "    # tipo de dato de los argumentos\n",
        "    lib.cla_factorial.argtypes = [ctypes.c_uint64]\n",
        "\n",
        "    # tipo de dato del resultado\n",
        "    lib.cla_factorial.restype = ctypes.c_uint64\n",
        "    \n",
        "    # funcion configurada\n",
        "    return lib.cla_factorial"
      ]
    },
    {
      "cell_type": "markdown",
      "metadata": {
        "id": "KLcggGJzfp64"
      },
      "source": [
        "Instancia de la función"
      ]
    },
    {
      "cell_type": "code",
      "execution_count": 7,
      "metadata": {
        "id": "9nNtzH1OoUCi"
      },
      "outputs": [],
      "source": [
        "c_cla_factorial = ctypes_cla_factorial()"
      ]
    },
    {
      "cell_type": "markdown",
      "metadata": {
        "id": "fRlvr1VmfzEh"
      },
      "source": [
        "Se empleará la función `factorial` del módulo `math` como referencia"
      ]
    },
    {
      "cell_type": "code",
      "execution_count": 8,
      "metadata": {
        "id": "hPmw9eaWcv3m"
      },
      "outputs": [],
      "source": [
        "import math"
      ]
    },
    {
      "cell_type": "code",
      "execution_count": 9,
      "metadata": {
        "colab": {
          "base_uri": "https://localhost:8080/"
        },
        "id": "-oxBK3Fafx9z",
        "outputId": "a809396e-e4a6-4f3a-f445-2e067952f406"
      },
      "outputs": [
        {
          "data": {
            "text/plain": [
              "(120, 120)"
            ]
          },
          "execution_count": 9,
          "metadata": {},
          "output_type": "execute_result"
        }
      ],
      "source": [
        "c_cla_factorial(5), math.factorial(5)"
      ]
    },
    {
      "cell_type": "code",
      "execution_count": 10,
      "metadata": {
        "colab": {
          "base_uri": "https://localhost:8080/"
        },
        "id": "brVc7himfwb5",
        "outputId": "10960339-ebf6-4a06-aead-dcd6a882f942"
      },
      "outputs": [
        {
          "data": {
            "text/plain": [
              "(1307674368000, 1307674368000)"
            ]
          },
          "execution_count": 10,
          "metadata": {},
          "output_type": "execute_result"
        }
      ],
      "source": [
        "c_cla_factorial(15), math.factorial(15)"
      ]
    },
    {
      "cell_type": "markdown",
      "metadata": {
        "id": "54PWoJLBf_7A"
      },
      "source": [
        "Parece funcionar bien; sin embargo, recuerde que `Python` no tiene los límites de precisión que sí tiene `C`. Mire lo que pasa cuando se intenta calcular $100!$."
      ]
    },
    {
      "cell_type": "code",
      "execution_count": 11,
      "metadata": {
        "colab": {
          "base_uri": "https://localhost:8080/"
        },
        "id": "8czq8hthgP9E",
        "outputId": "f2c7106c-4385-4c9f-f8dc-90148fb4f1f2"
      },
      "outputs": [
        {
          "data": {
            "text/plain": [
              "(0,\n",
              " 93326215443944152681699238856266700490715968264381621468592963895217599993229915608941463976156518286253697920827223758251185210916864000000000000000000000000)"
            ]
          },
          "execution_count": 11,
          "metadata": {},
          "output_type": "execute_result"
        }
      ],
      "source": [
        "c_cla_factorial(100), math.factorial(100)"
      ]
    },
    {
      "cell_type": "markdown",
      "metadata": {
        "id": "m6ddv6YUgb8E"
      },
      "source": [
        "Como puede notar, el resultado es incorrecto. La cuestión más interesante sería saber hasta que valor del factorial sí podemos calcular con nuestra función."
      ]
    },
    {
      "cell_type": "code",
      "execution_count": 12,
      "metadata": {
        "id": "J4-xP7yScFYG"
      },
      "outputs": [],
      "source": [
        "def encontrar_N_max_de_c_cla_factorial():\n",
        "  N = 1\n",
        "  while (True):\n",
        "    dif = c_cla_factorial(N) - math.factorial(N)\n",
        "    if dif != 0:\n",
        "      return N-1\n",
        "    N += 1"
      ]
    },
    {
      "cell_type": "code",
      "execution_count": 13,
      "metadata": {
        "id": "gE247icocj7j"
      },
      "outputs": [],
      "source": [
        "N_int = encontrar_N_max_de_c_cla_factorial()"
      ]
    },
    {
      "cell_type": "code",
      "execution_count": 14,
      "metadata": {
        "colab": {
          "base_uri": "https://localhost:8080/"
        },
        "id": "JTxswQ3pc11w",
        "outputId": "e45d674b-ee4f-4e10-fc53-74e667b95a8a"
      },
      "outputs": [
        {
          "data": {
            "text/plain": [
              "20"
            ]
          },
          "execution_count": 14,
          "metadata": {},
          "output_type": "execute_result"
        }
      ],
      "source": [
        "N_int"
      ]
    },
    {
      "cell_type": "markdown",
      "metadata": {
        "id": "zWb28FCftYmZ"
      },
      "source": [
        "Y se puede comprobar porque al intentar calcular $21!$ sale lo siguiente"
      ]
    },
    {
      "cell_type": "code",
      "execution_count": 15,
      "metadata": {
        "colab": {
          "base_uri": "https://localhost:8080/"
        },
        "id": "viMT7NYqtTvm",
        "outputId": "8e2b1f60-1638-4801-8bf3-662f9e2feedf"
      },
      "outputs": [
        {
          "data": {
            "text/plain": [
              "(14197454024290336768, 51090942171709440000)"
            ]
          },
          "execution_count": 15,
          "metadata": {},
          "output_type": "execute_result"
        }
      ],
      "source": [
        "c_cla_factorial(21), math.factorial(21)"
      ]
    },
    {
      "cell_type": "markdown",
      "metadata": {
        "id": "SekWeu2Btlma"
      },
      "source": [
        "Lamentablemente con esta aproximación solo podemos calcular hasta el $20!$. ¿Qué se tendría que hacer si se necesita calcular el factorial de un número más grande?"
      ]
    },
    {
      "cell_type": "markdown",
      "metadata": {
        "id": "WW6BJotcgvL_"
      },
      "source": [
        "Se puede emplear una definición alternativa del factorial\n",
        "\n",
        "Usted sabe que:\n",
        "$$\n",
        "n! = 1 \\times 2 \\times 3 \\times \\cdots \\times (n-2) \\times (n-1) \\times n\n",
        "$$\n",
        "Si se toma $ln$ a ambos lados de la igualdad:\n",
        "$$\n",
        "ln(n!) = ln(1) + ln(2) + ln(3) + \\cdots + ln(n-2) + ln(n-1) + ln(n)\n",
        "$$\n",
        "Y por propiedad se sabe que:\n",
        "$$\n",
        "e^{ln(x)} = x\n",
        "$$\n",
        "Entonces:\n",
        "$$\n",
        "n! = e^{ln(1) + ln(2) + ln(3) + \\cdots + ln(n-2) + ln(n-1) + ln(n)}\n",
        "$$"
      ]
    },
    {
      "cell_type": "markdown",
      "metadata": {
        "id": "hVEyWR3riM_L"
      },
      "source": [
        "Como puede notar, esta aproximación nos permite utilizar números en coma flotante, y esto nos da la libertad de trabajar con  `float`, `double` o `long double`. "
      ]
    },
    {
      "cell_type": "code",
      "execution_count": 16,
      "metadata": {
        "colab": {
          "base_uri": "https://localhost:8080/"
        },
        "id": "mKEh7lG8Kl05",
        "outputId": "01007398-ab09-4790-be00-b6ad09d29695"
      },
      "outputs": [
        {
          "name": "stdout",
          "output_type": "stream",
          "text": [
            "Writing log_factorial.c\n"
          ]
        }
      ],
      "source": [
        "%%file log_factorial.c\n",
        "\n",
        "#include <stdint.h>\n",
        "#include <math.h>\n",
        "\n",
        "float log_factorial_float(uint64_t n) {\n",
        "    float res = 0.0;\n",
        "    for (uint64_t i = 2; i <= n; i++) {\n",
        "        res += logf((float)i);\n",
        "    }\n",
        "    return expf(res);\n",
        "}\n",
        "\n",
        "double log_factorial_double(uint64_t n) {\n",
        "    double res = 0.0;\n",
        "    for (uint64_t i = 2; i <= n; i++) {\n",
        "        res += log((double)i);\n",
        "    }\n",
        "    return exp(res);\n",
        "}\n",
        "\n",
        "long double log_factorial_longdouble(uint64_t n) {\n",
        "    long double res = 0.0;\n",
        "    for (uint64_t i = 2; i <= n; i++) {\n",
        "        res += logl((long double)i);\n",
        "    }\n",
        "    return expl(res);\n",
        "}"
      ]
    },
    {
      "cell_type": "markdown",
      "metadata": {
        "id": "2EjyjJvFlBmh"
      },
      "source": [
        "Comandos para crear el *object file* y la *shared library*"
      ]
    },
    {
      "cell_type": "code",
      "execution_count": 17,
      "metadata": {
        "id": "_gOtjU6eLf2m"
      },
      "outputs": [],
      "source": [
        "! gcc -c log_factorial.c -o log_factorial.o -lm"
      ]
    },
    {
      "cell_type": "code",
      "execution_count": 18,
      "metadata": {
        "id": "UREKqivHLjNh"
      },
      "outputs": [],
      "source": [
        "! gcc -shared log_factorial.o -o log_factorial.so"
      ]
    },
    {
      "cell_type": "markdown",
      "metadata": {
        "id": "rg9nC5oJlHlU"
      },
      "source": [
        "Función para el enlace con `ctypes`"
      ]
    },
    {
      "cell_type": "code",
      "execution_count": 19,
      "metadata": {
        "id": "dkt9V0BnKy6X"
      },
      "outputs": [],
      "source": [
        "def ctypes_log_factorial():\n",
        "    # indicar la ruta de la shared library\n",
        "    libfile = './log_factorial.so'\n",
        "\n",
        "    # cargar la shared library\n",
        "    lib = ctypes.CDLL(libfile)\n",
        "\n",
        "    # tipo de dato de los argumentos de la función con float\n",
        "    lib.log_factorial_float.argtypes = [ctypes.c_uint64]\n",
        "\n",
        "    # tipo de dato del resultado de la función con float\n",
        "    lib.log_factorial_float.restype = ctypes.c_float\n",
        "\n",
        "    # tipo de dato de los argumentos de la función con double\n",
        "    lib.log_factorial_double.argtypes = [ctypes.c_uint64]\n",
        "\n",
        "    # tipo de dato del resultado de la función con double\n",
        "    lib.log_factorial_double.restype = ctypes.c_double\n",
        "\n",
        "    # tipo de dato de los argumentos de la función con long double\n",
        "    lib.log_factorial_longdouble.argtypes = [ctypes.c_uint64]\n",
        "\n",
        "    # tipo de dato del resultado de la función con long double\n",
        "    lib.log_factorial_longdouble.restype = ctypes.c_longdouble\n",
        "    \n",
        "    # funciones configuradas\n",
        "    return lib.log_factorial_float, lib.log_factorial_double, lib.log_factorial_longdouble"
      ]
    },
    {
      "cell_type": "markdown",
      "metadata": {
        "id": "BEqc5EO0lLHY"
      },
      "source": [
        "Instancias de las tres funciones"
      ]
    },
    {
      "cell_type": "code",
      "execution_count": 20,
      "metadata": {
        "id": "nbwf5lY1LaXs"
      },
      "outputs": [],
      "source": [
        "c_log_factorial_float, c_log_factorial_double, c_log_factorial_longdouble = ctypes_log_factorial()"
      ]
    },
    {
      "cell_type": "markdown",
      "metadata": {
        "id": "MasAF_zelN7A"
      },
      "source": [
        "Como ahora se trabaja con números en punto flotante esto permite hacer un seguimiento de la precisión del cálculo que se está realizando, y al mismo tiempo se pondrá saber el mayor valor de $n!$ que se puede calcular"
      ]
    },
    {
      "cell_type": "code",
      "execution_count": 21,
      "metadata": {
        "id": "jeVrKtrGoc3x"
      },
      "outputs": [],
      "source": [
        "def encontrar_N_max_de_c_log_factorial(f):\n",
        "  N = 1\n",
        "  while (True):\n",
        "    try:\n",
        "      err = abs(f(N) - math.factorial(N)) / abs(math.factorial(N))\n",
        "      print(f'Se pudo calcular el factorial de {N} con un error de {err}')\n",
        "      if err == float('inf'):\n",
        "        return N-1\n",
        "      N += 1\n",
        "      continue \n",
        "    except OverflowError:\n",
        "      print(f'Ocurre un desborde de tipo de dato cuando N vale {N}')\n",
        "      return N-1 "
      ]
    },
    {
      "cell_type": "code",
      "execution_count": null,
      "metadata": {
        "id": "B3fCVxdsi4gt"
      },
      "outputs": [],
      "source": [
        "N_float = encontrar_N_max_de_c_log_factorial(c_log_factorial_float)"
      ]
    },
    {
      "cell_type": "code",
      "execution_count": 23,
      "metadata": {
        "colab": {
          "base_uri": "https://localhost:8080/"
        },
        "id": "akdK4fuGkq1l",
        "outputId": "909e259f-251f-4d59-a83b-5bd5ae3107bc"
      },
      "outputs": [
        {
          "data": {
            "text/plain": [
              "34"
            ]
          },
          "execution_count": 23,
          "metadata": {},
          "output_type": "execute_result"
        }
      ],
      "source": [
        "N_float"
      ]
    },
    {
      "cell_type": "code",
      "execution_count": null,
      "metadata": {
        "id": "ZWFx_wbMRE2r"
      },
      "outputs": [],
      "source": [
        "N_double = encontrar_N_max_de_c_log_factorial(c_log_factorial_double)"
      ]
    },
    {
      "cell_type": "code",
      "execution_count": 25,
      "metadata": {
        "colab": {
          "base_uri": "https://localhost:8080/"
        },
        "id": "C_XkP21LXyF3",
        "outputId": "43be5d4a-1465-4ebd-fbf8-7059a9243b15"
      },
      "outputs": [
        {
          "data": {
            "text/plain": [
              "170"
            ]
          },
          "execution_count": 25,
          "metadata": {},
          "output_type": "execute_result"
        }
      ],
      "source": [
        "N_double"
      ]
    },
    {
      "cell_type": "code",
      "execution_count": null,
      "metadata": {
        "id": "vGB0W1sXXqtT"
      },
      "outputs": [],
      "source": [
        "N_longdouble = encontrar_N_max_de_c_log_factorial(c_log_factorial_longdouble)"
      ]
    },
    {
      "cell_type": "code",
      "execution_count": 27,
      "metadata": {
        "colab": {
          "base_uri": "https://localhost:8080/"
        },
        "id": "9sxvuWIPWuqE",
        "outputId": "96159dc7-f632-41df-fc10-b640e0b247f5"
      },
      "outputs": [
        {
          "data": {
            "text/plain": [
              "170"
            ]
          },
          "execution_count": 27,
          "metadata": {},
          "output_type": "execute_result"
        }
      ],
      "source": [
        "N_longdouble"
      ]
    },
    {
      "cell_type": "markdown",
      "metadata": {
        "id": "pRTh0_d_lfvJ"
      },
      "source": [
        "Como puede notar, cuando se usa `float` solo se puede calcular hasta $35!$, pero con `double` y `long double` se puede hasta `170!`. Con esta información ya se puede hacer un análisis del impacto que tiene en el tiempo de ejecución."
      ]
    },
    {
      "cell_type": "code",
      "execution_count": 28,
      "metadata": {
        "id": "VfJrBmxcNHYy"
      },
      "outputs": [],
      "source": [
        "import time"
      ]
    },
    {
      "cell_type": "code",
      "execution_count": 29,
      "metadata": {
        "id": "muJsxYkbNY13"
      },
      "outputs": [],
      "source": [
        "import statistics"
      ]
    },
    {
      "cell_type": "markdown",
      "metadata": {
        "id": "uHbKxdhBl2RU"
      },
      "source": [
        "Con esta función se puede encontrar la mediana de los tiempos de una función `func` que recibe como argumento `f_arg1`, luego de haber realizado `num_iter` iteraciones."
      ]
    },
    {
      "cell_type": "code",
      "execution_count": 30,
      "metadata": {
        "id": "b10m5HalM1tV"
      },
      "outputs": [],
      "source": [
        "def encontrar_mediana_de_mediciones(func, f_arg1, num_iter):\n",
        "  t = []\n",
        "  for i in range(num_iter):\n",
        "    # se empieza a medir el tiempo de la función func con su argumento\n",
        "    tic = time.perf_counter()\n",
        "    # se llama a la función de Python\n",
        "    func(f_arg1)\n",
        "    # se termina de medir el tiempo de la función func con su argumento\n",
        "    toc = time.perf_counter()\n",
        "    # se guarda la medición en la lista de Python\n",
        "    t.append(toc-tic)\n",
        "\n",
        "  return statistics.median(t)"
      ]
    },
    {
      "cell_type": "markdown",
      "metadata": {
        "id": "Xnt8xea7mkHn"
      },
      "source": [
        "Medianas de tiempos para el máximo valor que permite la función original que solo trabaja con enteros sin signo, y sus contrapartes con números en punto flotante para 25 iteraciones."
      ]
    },
    {
      "cell_type": "code",
      "execution_count": 31,
      "metadata": {
        "id": "jJqj3AOSOZC7"
      },
      "outputs": [],
      "source": [
        "num_iter = 25"
      ]
    },
    {
      "cell_type": "code",
      "execution_count": 32,
      "metadata": {
        "id": "Ng8OZJKSNa7X"
      },
      "outputs": [],
      "source": [
        "t_cf_med = encontrar_mediana_de_mediciones(c_cla_factorial, N_int, num_iter)\n",
        "t_lf_f_med = encontrar_mediana_de_mediciones(c_log_factorial_float, N_int, num_iter)\n",
        "t_lf_d_med = encontrar_mediana_de_mediciones(c_log_factorial_double, N_int, num_iter)\n",
        "t_lf_ld_med = encontrar_mediana_de_mediciones(c_log_factorial_longdouble, N_int, num_iter)"
      ]
    },
    {
      "cell_type": "code",
      "execution_count": 33,
      "metadata": {
        "id": "osTDctreOQcr"
      },
      "outputs": [],
      "source": [
        "import matplotlib.pyplot as plt"
      ]
    },
    {
      "cell_type": "code",
      "execution_count": 34,
      "metadata": {
        "colab": {
          "base_uri": "https://localhost:8080/",
          "height": 563
        },
        "id": "V5QyPjauPHvu",
        "outputId": "497e8a52-16d3-4563-d26d-0281ece3ff18"
      },
      "outputs": [
        {
          "data": {
            "image/png": "[encoded data removed]",
            "text/plain": [
              "<Figure size 640x480 with 1 Axes>"
            ]
          },
          "metadata": {},
          "output_type": "display_data"
        }
      ],
      "source": [
        "fig = plt.figure()\n",
        "ax = fig.add_axes([0,0,1,1])\n",
        "casos = ['uint64', 'float', 'double', 'long double']\n",
        "ax.bar(casos, [t_cf_med, t_lf_f_med, t_lf_d_med, t_lf_ld_med])\n",
        "plt.title(f'Mediana de tiempos de {N_int}! para {num_iter} iteraciones')\n",
        "plt.show()"
      ]
    },
    {
      "cell_type": "markdown",
      "metadata": {
        "id": "u4C0B2cdmL9A"
      },
      "source": [
        "Como puede notar, las funciones que calculan el factorial empleando la función exponencial y el logaritmo tienen un tiempo de ejecución mayor que la versión original con enteros. ¿Qué ocurrirá cuando se comparen solo entre ellas?"
      ]
    },
    {
      "cell_type": "code",
      "execution_count": 35,
      "metadata": {
        "id": "m8tu8QVmm2gK"
      },
      "outputs": [],
      "source": [
        "t_lf_f_med = encontrar_mediana_de_mediciones(c_log_factorial_float, N_float, num_iter)\n",
        "t_lf_d_med = encontrar_mediana_de_mediciones(c_log_factorial_double, N_float, num_iter)\n",
        "t_lf_ld_med = encontrar_mediana_de_mediciones(c_log_factorial_longdouble, N_float, num_iter)"
      ]
    },
    {
      "cell_type": "code",
      "execution_count": 36,
      "metadata": {
        "colab": {
          "base_uri": "https://localhost:8080/",
          "height": 563
        },
        "id": "BR4VQqfMbtgF",
        "outputId": "7364fe8d-0105-4d67-b02b-e376334598bc"
      },
      "outputs": [
        {
          "data": {
            "image/png": "[encoded data removed]",
            "text/plain": [
              "<Figure size 640x480 with 1 Axes>"
            ]
          },
          "metadata": {},
          "output_type": "display_data"
        }
      ],
      "source": [
        "fig = plt.figure()\n",
        "ax = fig.add_axes([0,0,1,1])\n",
        "casos = ['float', 'double', 'long double']\n",
        "ax.bar(casos, [t_lf_f_med, t_lf_d_med, t_lf_ld_med])\n",
        "plt.title(f'Mediana de tiempos de {N_float}! para {num_iter} iteraciones')\n",
        "plt.show()"
      ]
    },
    {
      "cell_type": "code",
      "execution_count": 37,
      "metadata": {
        "id": "X_zG8UdyoDC-"
      },
      "outputs": [],
      "source": [
        "t_lf_d_med = encontrar_mediana_de_mediciones(c_log_factorial_double, N_double, num_iter)\n",
        "t_lf_ld_med = encontrar_mediana_de_mediciones(c_log_factorial_longdouble, N_double, num_iter)"
      ]
    },
    {
      "cell_type": "code",
      "execution_count": 38,
      "metadata": {
        "colab": {
          "base_uri": "https://localhost:8080/",
          "height": 563
        },
        "id": "fUj9tmc7oIi6",
        "outputId": "8be7dd6b-a4e1-4a1d-d539-c9fd803a184c"
      },
      "outputs": [
        {
          "data": {
            "image/png": "[encoded data removed]",
            "text/plain": [
              "<Figure size 640x480 with 1 Axes>"
            ]
          },
          "metadata": {},
          "output_type": "display_data"
        }
      ],
      "source": [
        "fig = plt.figure()\n",
        "ax = fig.add_axes([0,0,1,1])\n",
        "casos = ['double', 'long double']\n",
        "ax.bar(casos, [t_lf_d_med, t_lf_ld_med])\n",
        "plt.title(f'Mediana de tiempos de {N_double}! para {num_iter} iteraciones')\n",
        "plt.show()"
      ]
    },
    {
      "cell_type": "markdown",
      "metadata": {
        "id": "soKsfPZsoqZ1"
      },
      "source": [
        "Es cierto, el tiempo de ejecución incrementó considerablemente, pero ahora se pueden calcular factoriales de números mayores al $20$. Sacrificar tiempo de ejecución, a cambio de ganar precisión y capacidad de cálculo será un situación usual al momento de implementar soluciones. No siempre se debe dar prioridad a un menor tiempo de ejecución."
      ]
    },
    {
      "cell_type": "markdown",
      "metadata": {
        "id": "ouRygTXKt-QG"
      },
      "source": [
        "Si usted tuviera que calcular $160!$ ¿Cuál sería la alternativa conveniente?"
      ]
    }
  ],
  "metadata": {
    "colab": {
      "provenance": []
    },
    "kernelspec": {
      "display_name": "Python 3",
      "name": "python3"
    },
    "language_info": {
      "name": "python"
    }
  },
  "nbformat": 4,
  "nbformat_minor": 0
}
